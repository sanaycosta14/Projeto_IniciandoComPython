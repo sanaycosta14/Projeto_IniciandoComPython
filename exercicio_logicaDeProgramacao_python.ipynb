{
  "nbformat": 4,
  "nbformat_minor": 0,
  "metadata": {
    "colab": {
      "provenance": [],
      "authorship_tag": "ABX9TyPuOIPJxMmeNkjSlzUCmgQL",
      "include_colab_link": true
    },
    "kernelspec": {
      "name": "python3",
      "display_name": "Python 3"
    },
    "language_info": {
      "name": "python"
    }
  },
  "cells": [
    {
      "cell_type": "markdown",
      "metadata": {
        "id": "view-in-github",
        "colab_type": "text"
      },
      "source": [
        "<a href=\"https://colab.research.google.com/github/sanaycosta14/Projeto_IniciandoComPython/blob/main/exercicio_logicaDeProgramacao_python.ipynb\" target=\"_parent\"><img src=\"https://colab.research.google.com/assets/colab-badge.svg\" alt=\"Open In Colab\"/></a>"
      ]
    },
    {
      "cell_type": "code",
      "execution_count": null,
      "metadata": {
        "id": "o1gDSIPB6IxQ"
      },
      "outputs": [],
      "source": [
        "nome = 'Sanayane Costa'"
      ]
    },
    {
      "cell_type": "code",
      "source": [
        "nome [0]"
      ],
      "metadata": {
        "colab": {
          "base_uri": "https://localhost:8080/",
          "height": 35
        },
        "id": "1C50z7Ox9FWM",
        "outputId": "b74236df-4dde-4524-c402-5352283d2692"
      },
      "execution_count": null,
      "outputs": [
        {
          "output_type": "execute_result",
          "data": {
            "text/plain": [
              "'m'"
            ],
            "application/vnd.google.colaboratory.intrinsic+json": {
              "type": "string"
            }
          },
          "metadata": {},
          "execution_count": 4
        }
      ]
    },
    {
      "cell_type": "code",
      "source": [
        "nome [: : -1]"
      ],
      "metadata": {
        "colab": {
          "base_uri": "https://localhost:8080/",
          "height": 35
        },
        "id": "JfeBfKU_89A-",
        "outputId": "4f967b84-8387-4558-8f87-ab100146b53a"
      },
      "execution_count": null,
      "outputs": [
        {
          "output_type": "execute_result",
          "data": {
            "text/plain": [
              "'asseb oiram'"
            ],
            "application/vnd.google.colaboratory.intrinsic+json": {
              "type": "string"
            }
          },
          "metadata": {},
          "execution_count": 5
        }
      ]
    },
    {
      "cell_type": "code",
      "source": [
        "for letra in nome:\n",
        "  print (letra)"
      ],
      "metadata": {
        "colab": {
          "base_uri": "https://localhost:8080/"
        },
        "id": "dH3V5bm39MoH",
        "outputId": "3d46cd8f-35c8-4b0b-b7a1-bb9c10112710"
      },
      "execution_count": null,
      "outputs": [
        {
          "output_type": "stream",
          "name": "stdout",
          "text": [
            "S\n",
            "a\n",
            "n\n",
            "a\n",
            "y\n",
            "a\n",
            "n\n",
            "e\n",
            " \n",
            "C\n",
            "o\n",
            "s\n",
            "t\n",
            "a\n"
          ]
        }
      ]
    },
    {
      "cell_type": "code",
      "source": [
        "for letra in range ( 0, len(nome)):\n",
        "  print(nome[letra])"
      ],
      "metadata": {
        "colab": {
          "base_uri": "https://localhost:8080/"
        },
        "id": "RVxrzsHL9aqO",
        "outputId": "309f9d26-dd77-4cd5-8524-3c4cf8dbfd11"
      },
      "execution_count": null,
      "outputs": [
        {
          "output_type": "stream",
          "name": "stdout",
          "text": [
            "S\n",
            "a\n",
            "n\n",
            "a\n",
            "y\n",
            "a\n",
            "n\n",
            "e\n",
            " \n",
            "C\n",
            "o\n",
            "s\n",
            "t\n",
            "a\n"
          ]
        }
      ]
    },
    {
      "cell_type": "code",
      "source": [
        "frutas = [ 'banana', 'manga', 'cacau', ['jambo', 'caqui']]\n",
        "\n",
        "frutas.append('morango')\n",
        "\n",
        "print (frutas)\n",
        "\n"
      ],
      "metadata": {
        "colab": {
          "base_uri": "https://localhost:8080/"
        },
        "id": "kThpsCPm-M4j",
        "outputId": "c3831210-1424-4ee6-cb5c-904e80388474"
      },
      "execution_count": null,
      "outputs": [
        {
          "output_type": "stream",
          "name": "stdout",
          "text": [
            "['banana', 'manga', 'cacau', ['jambo', 'caqui'], 'morango']\n"
          ]
        }
      ]
    },
    {
      "cell_type": "code",
      "source": [
        "fib = [1, 1]\n",
        "n = int(input(\"Entre com o quantidade de sequencia: \"))\n",
        "\n",
        "for num in range (0, n-2):\n",
        "  fib.append (fib[num]+fib[num+1])\n",
        "print (fib)"
      ],
      "metadata": {
        "colab": {
          "base_uri": "https://localhost:8080/"
        },
        "id": "N4Z2zbcWBpNr",
        "outputId": "bf8fed2f-3dad-4bf2-aa94-d07372e42d37"
      },
      "execution_count": null,
      "outputs": [
        {
          "output_type": "stream",
          "name": "stdout",
          "text": [
            "Entre com o quantidade de sequencia: 7\n",
            "[1, 1, 2, 3, 5, 8, 13]\n"
          ]
        }
      ]
    },
    {
      "cell_type": "code",
      "source": [
        "import biblioteca\n",
        "numero = int (input(\"entre com um numero para fatorar: \"))\n",
        "print(biblioteca.fatorial(numero))"
      ],
      "metadata": {
        "colab": {
          "base_uri": "https://localhost:8080/"
        },
        "id": "AizrDZUsHVa8",
        "outputId": "460b18b0-44e8-4fdd-d848-21b66b2a9e6d"
      },
      "execution_count": null,
      "outputs": [
        {
          "output_type": "stream",
          "name": "stdout",
          "text": [
            "entre com um numero para fatorar: 4\n",
            "24\n"
          ]
        }
      ]
    },
    {
      "cell_type": "code",
      "source": [
        "#pedra papel tesousa\n",
        "import random\n",
        "\n",
        "list = ['pedra', 'papel', 'tesoura']\n",
        "\n",
        "jogador = input(\"qual seu nome? \")\n",
        "escolha_jogador = input(f'{jogador}: pedra, papel ou tesoura? ')\n",
        "\n",
        "while escolha_jogador not in list:\n",
        "  escolha_jogador = input(f'{jogador}, pedra, papel ou tesoura? ')\n",
        "\n",
        "escolha_computador = list[random.randrange(0,3)]\n",
        "\n",
        "if escolha_jogador == escolha_computador:\n",
        "  print (f\"Empate. Computador também escolheu {escolha_jogador}\")\n",
        "\n",
        "elif escolha_jogador == 'pedra':\n",
        "  if escolha_computador == 'tesoura':\n",
        "    print (f\"Parabéns {jogador} Pedra ganha!\")\n",
        "  else:\n",
        "    print (\"Parabéns computador. Pedra ganha!\")\n",
        "\n",
        "elif escolha_jogador == 'tesoura':\n",
        "  if escolha_computador == 'papel':\n",
        "    print (f\"Parabén {jogador}. Tesoura ganha!\")\n",
        "  else:\n",
        "    print (\"Parabéns computador. Tesoura ganha!\")\n",
        "\n",
        "elif escolha_jogador == 'papel':\n",
        "  if escolha_computador == 'pedra':\n",
        "    print (f\"Parabén {jogador}. Papel ganha!\")\n",
        "  else:\n",
        "    print (\"Parabéns computador. Papel ganha!\")"
      ],
      "metadata": {
        "colab": {
          "base_uri": "https://localhost:8080/"
        },
        "id": "GnmYVKPTS_cd",
        "outputId": "35b7ac9b-7c3e-421f-f20c-7d733f753a25"
      },
      "execution_count": null,
      "outputs": [
        {
          "output_type": "stream",
          "name": "stdout",
          "text": [
            "qual seu nome? sa\n",
            "sa: pedra, papel ou tesoura? tesoura\n",
            "Empate. Computador também escolheu tesoura\n"
          ]
        }
      ]
    }
  ]
}